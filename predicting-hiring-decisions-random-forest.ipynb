{
 "cells": [
  {
   "cell_type": "code",
   "execution_count": 1,
   "id": "b7c166e8",
   "metadata": {
    "_cell_guid": "b1076dfc-b9ad-4769-8c92-a6c4dae69d19",
    "_uuid": "8f2839f25d086af736a60e9eeb907d3b93b6e0e5",
    "execution": {
     "iopub.execute_input": "2024-06-26T13:54:43.630088Z",
     "iopub.status.busy": "2024-06-26T13:54:43.629657Z",
     "iopub.status.idle": "2024-06-26T13:54:44.378580Z",
     "shell.execute_reply": "2024-06-26T13:54:44.377658Z"
    },
    "papermill": {
     "duration": 0.759995,
     "end_time": "2024-06-26T13:54:44.380692",
     "exception": false,
     "start_time": "2024-06-26T13:54:43.620697",
     "status": "completed"
    },
    "tags": []
   },
   "outputs": [
    {
     "name": "stdout",
     "output_type": "stream",
     "text": [
      "/kaggle/input/predicting-hiring-decisions-in-recruitment-data/recruitment_data.csv\n"
     ]
    }
   ],
   "source": [
    "# This Python 3 environment comes with many helpful analytics libraries installed\n",
    "# It is defined by the kaggle/python Docker image: https://github.com/kaggle/docker-python\n",
    "# For example, here's several helpful packages to load\n",
    "\n",
    "import numpy as np # linear algebra\n",
    "import pandas as pd # data processing, CSV file I/O (e.g. pd.read_csv)\n",
    "\n",
    "# Input data files are available in the read-only \"../input/\" directory\n",
    "# For example, running this (by clicking run or pressing Shift+Enter) will list all files under the input directory\n",
    "\n",
    "import os\n",
    "for dirname, _, filenames in os.walk('/kaggle/input'):\n",
    "    for filename in filenames:\n",
    "        print(os.path.join(dirname, filename))\n",
    "\n",
    "# You can write up to 20GB to the current directory (/kaggle/working/) that gets preserved as output when you create a version using \"Save & Run All\" \n",
    "# You can also write temporary files to /kaggle/temp/, but they won't be saved outside of the current session"
   ]
  },
  {
   "cell_type": "code",
   "execution_count": 2,
   "id": "e5fbb087",
   "metadata": {
    "execution": {
     "iopub.execute_input": "2024-06-26T13:54:44.395893Z",
     "iopub.status.busy": "2024-06-26T13:54:44.394962Z",
     "iopub.status.idle": "2024-06-26T13:54:45.775264Z",
     "shell.execute_reply": "2024-06-26T13:54:45.774234Z"
    },
    "papermill": {
     "duration": 1.390264,
     "end_time": "2024-06-26T13:54:45.777735",
     "exception": false,
     "start_time": "2024-06-26T13:54:44.387471",
     "status": "completed"
    },
    "tags": []
   },
   "outputs": [],
   "source": [
    "import numpy as np\n",
    "import pandas as pd\n",
    "\n",
    "import pickle as pkl\n",
    " \n",
    "from sklearn.ensemble import RandomForestClassifier\n",
    "from sklearn.model_selection import train_test_split, PredefinedSplit, GridSearchCV\n",
    "from sklearn.metrics import f1_score, precision_score, recall_score, accuracy_score"
   ]
  },
  {
   "cell_type": "code",
   "execution_count": 3,
   "id": "815d5ed2",
   "metadata": {
    "execution": {
     "iopub.execute_input": "2024-06-26T13:54:45.792470Z",
     "iopub.status.busy": "2024-06-26T13:54:45.792154Z",
     "iopub.status.idle": "2024-06-26T13:54:45.811096Z",
     "shell.execute_reply": "2024-06-26T13:54:45.810391Z"
    },
    "papermill": {
     "duration": 0.028528,
     "end_time": "2024-06-26T13:54:45.813204",
     "exception": false,
     "start_time": "2024-06-26T13:54:45.784676",
     "status": "completed"
    },
    "tags": []
   },
   "outputs": [],
   "source": [
    "df = pd.read_csv('/kaggle/input/predicting-hiring-decisions-in-recruitment-data/recruitment_data.csv')\n"
   ]
  },
  {
   "cell_type": "code",
   "execution_count": 4,
   "id": "a8a664fd",
   "metadata": {
    "execution": {
     "iopub.execute_input": "2024-06-26T13:54:45.827611Z",
     "iopub.status.busy": "2024-06-26T13:54:45.827293Z",
     "iopub.status.idle": "2024-06-26T13:54:45.856406Z",
     "shell.execute_reply": "2024-06-26T13:54:45.855439Z"
    },
    "papermill": {
     "duration": 0.038704,
     "end_time": "2024-06-26T13:54:45.858543",
     "exception": false,
     "start_time": "2024-06-26T13:54:45.819839",
     "status": "completed"
    },
    "tags": []
   },
   "outputs": [
    {
     "data": {
      "text/html": [
       "<div>\n",
       "<style scoped>\n",
       "    .dataframe tbody tr th:only-of-type {\n",
       "        vertical-align: middle;\n",
       "    }\n",
       "\n",
       "    .dataframe tbody tr th {\n",
       "        vertical-align: top;\n",
       "    }\n",
       "\n",
       "    .dataframe thead th {\n",
       "        text-align: right;\n",
       "    }\n",
       "</style>\n",
       "<table border=\"1\" class=\"dataframe\">\n",
       "  <thead>\n",
       "    <tr style=\"text-align: right;\">\n",
       "      <th></th>\n",
       "      <th>Age</th>\n",
       "      <th>Gender</th>\n",
       "      <th>EducationLevel</th>\n",
       "      <th>ExperienceYears</th>\n",
       "      <th>PreviousCompanies</th>\n",
       "      <th>DistanceFromCompany</th>\n",
       "      <th>InterviewScore</th>\n",
       "      <th>SkillScore</th>\n",
       "      <th>PersonalityScore</th>\n",
       "      <th>RecruitmentStrategy</th>\n",
       "      <th>HiringDecision</th>\n",
       "    </tr>\n",
       "  </thead>\n",
       "  <tbody>\n",
       "    <tr>\n",
       "      <th>0</th>\n",
       "      <td>26</td>\n",
       "      <td>1</td>\n",
       "      <td>2</td>\n",
       "      <td>0</td>\n",
       "      <td>3</td>\n",
       "      <td>26.783828</td>\n",
       "      <td>48</td>\n",
       "      <td>78</td>\n",
       "      <td>91</td>\n",
       "      <td>1</td>\n",
       "      <td>1</td>\n",
       "    </tr>\n",
       "    <tr>\n",
       "      <th>1</th>\n",
       "      <td>39</td>\n",
       "      <td>1</td>\n",
       "      <td>4</td>\n",
       "      <td>12</td>\n",
       "      <td>3</td>\n",
       "      <td>25.862694</td>\n",
       "      <td>35</td>\n",
       "      <td>68</td>\n",
       "      <td>80</td>\n",
       "      <td>2</td>\n",
       "      <td>1</td>\n",
       "    </tr>\n",
       "    <tr>\n",
       "      <th>2</th>\n",
       "      <td>48</td>\n",
       "      <td>0</td>\n",
       "      <td>2</td>\n",
       "      <td>3</td>\n",
       "      <td>2</td>\n",
       "      <td>9.920805</td>\n",
       "      <td>20</td>\n",
       "      <td>67</td>\n",
       "      <td>13</td>\n",
       "      <td>2</td>\n",
       "      <td>0</td>\n",
       "    </tr>\n",
       "    <tr>\n",
       "      <th>3</th>\n",
       "      <td>34</td>\n",
       "      <td>1</td>\n",
       "      <td>2</td>\n",
       "      <td>5</td>\n",
       "      <td>2</td>\n",
       "      <td>6.407751</td>\n",
       "      <td>36</td>\n",
       "      <td>27</td>\n",
       "      <td>70</td>\n",
       "      <td>3</td>\n",
       "      <td>0</td>\n",
       "    </tr>\n",
       "    <tr>\n",
       "      <th>4</th>\n",
       "      <td>30</td>\n",
       "      <td>0</td>\n",
       "      <td>1</td>\n",
       "      <td>6</td>\n",
       "      <td>1</td>\n",
       "      <td>43.105343</td>\n",
       "      <td>23</td>\n",
       "      <td>52</td>\n",
       "      <td>85</td>\n",
       "      <td>2</td>\n",
       "      <td>0</td>\n",
       "    </tr>\n",
       "  </tbody>\n",
       "</table>\n",
       "</div>"
      ],
      "text/plain": [
       "   Age  Gender  EducationLevel  ExperienceYears  PreviousCompanies  \\\n",
       "0   26       1               2                0                  3   \n",
       "1   39       1               4               12                  3   \n",
       "2   48       0               2                3                  2   \n",
       "3   34       1               2                5                  2   \n",
       "4   30       0               1                6                  1   \n",
       "\n",
       "   DistanceFromCompany  InterviewScore  SkillScore  PersonalityScore  \\\n",
       "0            26.783828              48          78                91   \n",
       "1            25.862694              35          68                80   \n",
       "2             9.920805              20          67                13   \n",
       "3             6.407751              36          27                70   \n",
       "4            43.105343              23          52                85   \n",
       "\n",
       "   RecruitmentStrategy  HiringDecision  \n",
       "0                    1               1  \n",
       "1                    2               1  \n",
       "2                    2               0  \n",
       "3                    3               0  \n",
       "4                    2               0  "
      ]
     },
     "execution_count": 4,
     "metadata": {},
     "output_type": "execute_result"
    }
   ],
   "source": [
    "df.head()"
   ]
  },
  {
   "cell_type": "markdown",
   "id": "4c622f78",
   "metadata": {
    "papermill": {
     "duration": 0.006431,
     "end_time": "2024-06-26T13:54:45.871861",
     "exception": false,
     "start_time": "2024-06-26T13:54:45.865430",
     "status": "completed"
    },
    "tags": []
   },
   "source": [
    "**Data exploration, data cleaning, and model preparation**"
   ]
  },
  {
   "cell_type": "code",
   "execution_count": 5,
   "id": "cd212719",
   "metadata": {
    "execution": {
     "iopub.execute_input": "2024-06-26T13:54:45.886344Z",
     "iopub.status.busy": "2024-06-26T13:54:45.886007Z",
     "iopub.status.idle": "2024-06-26T13:54:45.893223Z",
     "shell.execute_reply": "2024-06-26T13:54:45.892236Z"
    },
    "papermill": {
     "duration": 0.016579,
     "end_time": "2024-06-26T13:54:45.895090",
     "exception": false,
     "start_time": "2024-06-26T13:54:45.878511",
     "status": "completed"
    },
    "tags": []
   },
   "outputs": [
    {
     "data": {
      "text/plain": [
       "Age                      int64\n",
       "Gender                   int64\n",
       "EducationLevel           int64\n",
       "ExperienceYears          int64\n",
       "PreviousCompanies        int64\n",
       "DistanceFromCompany    float64\n",
       "InterviewScore           int64\n",
       "SkillScore               int64\n",
       "PersonalityScore         int64\n",
       "RecruitmentStrategy      int64\n",
       "HiringDecision           int64\n",
       "dtype: object"
      ]
     },
     "execution_count": 5,
     "metadata": {},
     "output_type": "execute_result"
    }
   ],
   "source": [
    "df.dtypes"
   ]
  },
  {
   "cell_type": "code",
   "execution_count": 6,
   "id": "81a383f3",
   "metadata": {
    "execution": {
     "iopub.execute_input": "2024-06-26T13:54:45.909677Z",
     "iopub.status.busy": "2024-06-26T13:54:45.909384Z",
     "iopub.status.idle": "2024-06-26T13:54:45.918157Z",
     "shell.execute_reply": "2024-06-26T13:54:45.917356Z"
    },
    "papermill": {
     "duration": 0.018251,
     "end_time": "2024-06-26T13:54:45.920060",
     "exception": false,
     "start_time": "2024-06-26T13:54:45.901809",
     "status": "completed"
    },
    "tags": []
   },
   "outputs": [
    {
     "data": {
      "text/plain": [
       "Age                    0\n",
       "Gender                 0\n",
       "EducationLevel         0\n",
       "ExperienceYears        0\n",
       "PreviousCompanies      0\n",
       "DistanceFromCompany    0\n",
       "InterviewScore         0\n",
       "SkillScore             0\n",
       "PersonalityScore       0\n",
       "RecruitmentStrategy    0\n",
       "HiringDecision         0\n",
       "dtype: int64"
      ]
     },
     "execution_count": 6,
     "metadata": {},
     "output_type": "execute_result"
    }
   ],
   "source": [
    "df.isnull().sum()\n"
   ]
  },
  {
   "cell_type": "code",
   "execution_count": 7,
   "id": "49ca642b",
   "metadata": {
    "execution": {
     "iopub.execute_input": "2024-06-26T13:54:45.935587Z",
     "iopub.status.busy": "2024-06-26T13:54:45.934944Z",
     "iopub.status.idle": "2024-06-26T13:54:45.940938Z",
     "shell.execute_reply": "2024-06-26T13:54:45.939919Z"
    },
    "papermill": {
     "duration": 0.016131,
     "end_time": "2024-06-26T13:54:45.943163",
     "exception": false,
     "start_time": "2024-06-26T13:54:45.927032",
     "status": "completed"
    },
    "tags": []
   },
   "outputs": [
    {
     "data": {
      "text/plain": [
       "(1500, 11)"
      ]
     },
     "execution_count": 7,
     "metadata": {},
     "output_type": "execute_result"
    }
   ],
   "source": [
    "df.shape\n"
   ]
  },
  {
   "cell_type": "code",
   "execution_count": 8,
   "id": "46d2dc96",
   "metadata": {
    "execution": {
     "iopub.execute_input": "2024-06-26T13:54:45.959154Z",
     "iopub.status.busy": "2024-06-26T13:54:45.958498Z",
     "iopub.status.idle": "2024-06-26T13:54:45.993621Z",
     "shell.execute_reply": "2024-06-26T13:54:45.992735Z"
    },
    "papermill": {
     "duration": 0.045129,
     "end_time": "2024-06-26T13:54:45.995570",
     "exception": false,
     "start_time": "2024-06-26T13:54:45.950441",
     "status": "completed"
    },
    "tags": []
   },
   "outputs": [
    {
     "data": {
      "text/html": [
       "<div>\n",
       "<style scoped>\n",
       "    .dataframe tbody tr th:only-of-type {\n",
       "        vertical-align: middle;\n",
       "    }\n",
       "\n",
       "    .dataframe tbody tr th {\n",
       "        vertical-align: top;\n",
       "    }\n",
       "\n",
       "    .dataframe thead th {\n",
       "        text-align: right;\n",
       "    }\n",
       "</style>\n",
       "<table border=\"1\" class=\"dataframe\">\n",
       "  <thead>\n",
       "    <tr style=\"text-align: right;\">\n",
       "      <th></th>\n",
       "      <th>count</th>\n",
       "      <th>mean</th>\n",
       "      <th>std</th>\n",
       "      <th>min</th>\n",
       "      <th>25%</th>\n",
       "      <th>50%</th>\n",
       "      <th>75%</th>\n",
       "      <th>max</th>\n",
       "    </tr>\n",
       "  </thead>\n",
       "  <tbody>\n",
       "    <tr>\n",
       "      <th>Age</th>\n",
       "      <td>1500.0</td>\n",
       "      <td>35.148667</td>\n",
       "      <td>9.252728</td>\n",
       "      <td>20.000000</td>\n",
       "      <td>27.000000</td>\n",
       "      <td>35.000000</td>\n",
       "      <td>43.000000</td>\n",
       "      <td>50.000000</td>\n",
       "    </tr>\n",
       "    <tr>\n",
       "      <th>Gender</th>\n",
       "      <td>1500.0</td>\n",
       "      <td>0.492000</td>\n",
       "      <td>0.500103</td>\n",
       "      <td>0.000000</td>\n",
       "      <td>0.000000</td>\n",
       "      <td>0.000000</td>\n",
       "      <td>1.000000</td>\n",
       "      <td>1.000000</td>\n",
       "    </tr>\n",
       "    <tr>\n",
       "      <th>EducationLevel</th>\n",
       "      <td>1500.0</td>\n",
       "      <td>2.188000</td>\n",
       "      <td>0.862449</td>\n",
       "      <td>1.000000</td>\n",
       "      <td>2.000000</td>\n",
       "      <td>2.000000</td>\n",
       "      <td>3.000000</td>\n",
       "      <td>4.000000</td>\n",
       "    </tr>\n",
       "    <tr>\n",
       "      <th>ExperienceYears</th>\n",
       "      <td>1500.0</td>\n",
       "      <td>7.694000</td>\n",
       "      <td>4.641414</td>\n",
       "      <td>0.000000</td>\n",
       "      <td>4.000000</td>\n",
       "      <td>8.000000</td>\n",
       "      <td>12.000000</td>\n",
       "      <td>15.000000</td>\n",
       "    </tr>\n",
       "    <tr>\n",
       "      <th>PreviousCompanies</th>\n",
       "      <td>1500.0</td>\n",
       "      <td>3.002000</td>\n",
       "      <td>1.410670</td>\n",
       "      <td>1.000000</td>\n",
       "      <td>2.000000</td>\n",
       "      <td>3.000000</td>\n",
       "      <td>4.000000</td>\n",
       "      <td>5.000000</td>\n",
       "    </tr>\n",
       "    <tr>\n",
       "      <th>DistanceFromCompany</th>\n",
       "      <td>1500.0</td>\n",
       "      <td>25.505379</td>\n",
       "      <td>14.567151</td>\n",
       "      <td>1.031376</td>\n",
       "      <td>12.838851</td>\n",
       "      <td>25.502239</td>\n",
       "      <td>37.737996</td>\n",
       "      <td>50.992462</td>\n",
       "    </tr>\n",
       "    <tr>\n",
       "      <th>InterviewScore</th>\n",
       "      <td>1500.0</td>\n",
       "      <td>50.564000</td>\n",
       "      <td>28.626215</td>\n",
       "      <td>0.000000</td>\n",
       "      <td>25.000000</td>\n",
       "      <td>52.000000</td>\n",
       "      <td>75.000000</td>\n",
       "      <td>100.000000</td>\n",
       "    </tr>\n",
       "    <tr>\n",
       "      <th>SkillScore</th>\n",
       "      <td>1500.0</td>\n",
       "      <td>51.116000</td>\n",
       "      <td>29.353563</td>\n",
       "      <td>0.000000</td>\n",
       "      <td>25.750000</td>\n",
       "      <td>53.000000</td>\n",
       "      <td>76.000000</td>\n",
       "      <td>100.000000</td>\n",
       "    </tr>\n",
       "    <tr>\n",
       "      <th>PersonalityScore</th>\n",
       "      <td>1500.0</td>\n",
       "      <td>49.387333</td>\n",
       "      <td>29.353201</td>\n",
       "      <td>0.000000</td>\n",
       "      <td>23.000000</td>\n",
       "      <td>49.000000</td>\n",
       "      <td>76.000000</td>\n",
       "      <td>100.000000</td>\n",
       "    </tr>\n",
       "    <tr>\n",
       "      <th>RecruitmentStrategy</th>\n",
       "      <td>1500.0</td>\n",
       "      <td>1.893333</td>\n",
       "      <td>0.689642</td>\n",
       "      <td>1.000000</td>\n",
       "      <td>1.000000</td>\n",
       "      <td>2.000000</td>\n",
       "      <td>2.000000</td>\n",
       "      <td>3.000000</td>\n",
       "    </tr>\n",
       "    <tr>\n",
       "      <th>HiringDecision</th>\n",
       "      <td>1500.0</td>\n",
       "      <td>0.310000</td>\n",
       "      <td>0.462647</td>\n",
       "      <td>0.000000</td>\n",
       "      <td>0.000000</td>\n",
       "      <td>0.000000</td>\n",
       "      <td>1.000000</td>\n",
       "      <td>1.000000</td>\n",
       "    </tr>\n",
       "  </tbody>\n",
       "</table>\n",
       "</div>"
      ],
      "text/plain": [
       "                      count       mean        std        min        25%  \\\n",
       "Age                  1500.0  35.148667   9.252728  20.000000  27.000000   \n",
       "Gender               1500.0   0.492000   0.500103   0.000000   0.000000   \n",
       "EducationLevel       1500.0   2.188000   0.862449   1.000000   2.000000   \n",
       "ExperienceYears      1500.0   7.694000   4.641414   0.000000   4.000000   \n",
       "PreviousCompanies    1500.0   3.002000   1.410670   1.000000   2.000000   \n",
       "DistanceFromCompany  1500.0  25.505379  14.567151   1.031376  12.838851   \n",
       "InterviewScore       1500.0  50.564000  28.626215   0.000000  25.000000   \n",
       "SkillScore           1500.0  51.116000  29.353563   0.000000  25.750000   \n",
       "PersonalityScore     1500.0  49.387333  29.353201   0.000000  23.000000   \n",
       "RecruitmentStrategy  1500.0   1.893333   0.689642   1.000000   1.000000   \n",
       "HiringDecision       1500.0   0.310000   0.462647   0.000000   0.000000   \n",
       "\n",
       "                           50%        75%         max  \n",
       "Age                  35.000000  43.000000   50.000000  \n",
       "Gender                0.000000   1.000000    1.000000  \n",
       "EducationLevel        2.000000   3.000000    4.000000  \n",
       "ExperienceYears       8.000000  12.000000   15.000000  \n",
       "PreviousCompanies     3.000000   4.000000    5.000000  \n",
       "DistanceFromCompany  25.502239  37.737996   50.992462  \n",
       "InterviewScore       52.000000  75.000000  100.000000  \n",
       "SkillScore           53.000000  76.000000  100.000000  \n",
       "PersonalityScore     49.000000  76.000000  100.000000  \n",
       "RecruitmentStrategy   2.000000   2.000000    3.000000  \n",
       "HiringDecision        0.000000   1.000000    1.000000  "
      ]
     },
     "execution_count": 8,
     "metadata": {},
     "output_type": "execute_result"
    }
   ],
   "source": [
    "df.describe().T\n"
   ]
  },
  {
   "cell_type": "code",
   "execution_count": 9,
   "id": "4a0d81b9",
   "metadata": {
    "execution": {
     "iopub.execute_input": "2024-06-26T13:54:46.012414Z",
     "iopub.status.busy": "2024-06-26T13:54:46.011686Z",
     "iopub.status.idle": "2024-06-26T13:54:46.024243Z",
     "shell.execute_reply": "2024-06-26T13:54:46.023314Z"
    },
    "papermill": {
     "duration": 0.0236,
     "end_time": "2024-06-26T13:54:46.026551",
     "exception": false,
     "start_time": "2024-06-26T13:54:46.002951",
     "status": "completed"
    },
    "tags": []
   },
   "outputs": [
    {
     "data": {
      "text/plain": [
       "HiringDecision\n",
       "0    0.69\n",
       "1    0.31\n",
       "Name: proportion, dtype: float64"
      ]
     },
     "execution_count": 9,
     "metadata": {},
     "output_type": "execute_result"
    }
   ],
   "source": [
    "df['HiringDecision'].value_counts(normalize = True ,dropna = False)\n"
   ]
  },
  {
   "cell_type": "markdown",
   "id": "abf7bd5e",
   "metadata": {
    "papermill": {
     "duration": 0.007318,
     "end_time": "2024-06-26T13:54:46.041501",
     "exception": false,
     "start_time": "2024-06-26T13:54:46.034183",
     "status": "completed"
    },
    "tags": []
   },
   "source": [
    "**Create the training and testing data**"
   ]
  },
  {
   "cell_type": "code",
   "execution_count": 10,
   "id": "4cc3e645",
   "metadata": {
    "execution": {
     "iopub.execute_input": "2024-06-26T13:54:46.058206Z",
     "iopub.status.busy": "2024-06-26T13:54:46.057872Z",
     "iopub.status.idle": "2024-06-26T13:54:46.062321Z",
     "shell.execute_reply": "2024-06-26T13:54:46.061339Z"
    },
    "papermill": {
     "duration": 0.015433,
     "end_time": "2024-06-26T13:54:46.064483",
     "exception": false,
     "start_time": "2024-06-26T13:54:46.049050",
     "status": "completed"
    },
    "tags": []
   },
   "outputs": [],
   "source": [
    "y = df[\"HiringDecision\"]"
   ]
  },
  {
   "cell_type": "code",
   "execution_count": 11,
   "id": "3bec725a",
   "metadata": {
    "execution": {
     "iopub.execute_input": "2024-06-26T13:54:46.081903Z",
     "iopub.status.busy": "2024-06-26T13:54:46.081319Z",
     "iopub.status.idle": "2024-06-26T13:54:46.091126Z",
     "shell.execute_reply": "2024-06-26T13:54:46.089869Z"
    },
    "papermill": {
     "duration": 0.020977,
     "end_time": "2024-06-26T13:54:46.093325",
     "exception": false,
     "start_time": "2024-06-26T13:54:46.072348",
     "status": "completed"
    },
    "tags": []
   },
   "outputs": [],
   "source": [
    "X = df.copy()\n",
    "X = X.drop(\"HiringDecision\", axis = 1)"
   ]
  },
  {
   "cell_type": "code",
   "execution_count": 12,
   "id": "ac60ab3c",
   "metadata": {
    "execution": {
     "iopub.execute_input": "2024-06-26T13:54:46.109758Z",
     "iopub.status.busy": "2024-06-26T13:54:46.109446Z",
     "iopub.status.idle": "2024-06-26T13:54:46.119752Z",
     "shell.execute_reply": "2024-06-26T13:54:46.118873Z"
    },
    "papermill": {
     "duration": 0.020932,
     "end_time": "2024-06-26T13:54:46.121853",
     "exception": false,
     "start_time": "2024-06-26T13:54:46.100921",
     "status": "completed"
    },
    "tags": []
   },
   "outputs": [],
   "source": [
    "\n",
    "X_train, X_test, y_train, y_test = train_test_split(X, y, test_size = 0.25, random_state = 0)\n",
    "X_tr, X_val, y_tr, y_val = train_test_split(X_train, y_train, test_size = 0.25, random_state = 0)\n"
   ]
  },
  {
   "cell_type": "markdown",
   "id": "6504e066",
   "metadata": {
    "papermill": {
     "duration": 0.007245,
     "end_time": "2024-06-26T13:54:46.136794",
     "exception": false,
     "start_time": "2024-06-26T13:54:46.129549",
     "status": "completed"
    },
    "tags": []
   },
   "source": [
    "**Determine set of hyperparameters**"
   ]
  },
  {
   "cell_type": "code",
   "execution_count": 13,
   "id": "5a1ffc9b",
   "metadata": {
    "execution": {
     "iopub.execute_input": "2024-06-26T13:54:46.153265Z",
     "iopub.status.busy": "2024-06-26T13:54:46.152892Z",
     "iopub.status.idle": "2024-06-26T13:54:46.157903Z",
     "shell.execute_reply": "2024-06-26T13:54:46.156950Z"
    },
    "papermill": {
     "duration": 0.015684,
     "end_time": "2024-06-26T13:54:46.159952",
     "exception": false,
     "start_time": "2024-06-26T13:54:46.144268",
     "status": "completed"
    },
    "tags": []
   },
   "outputs": [],
   "source": [
    "cv_params = {'n_estimators' : [50,100], \n",
    "              'max_depth' : [10,50],        \n",
    "              'min_samples_leaf' : [0.5,1], \n",
    "              'min_samples_split' : [0.001, 0.01],\n",
    "              'max_features' : [\"sqrt\"], \n",
    "              'max_samples' : [.5,.9]}"
   ]
  },
  {
   "cell_type": "markdown",
   "id": "efe01a16",
   "metadata": {
    "papermill": {
     "duration": 0.007422,
     "end_time": "2024-06-26T13:54:46.175088",
     "exception": false,
     "start_time": "2024-06-26T13:54:46.167666",
     "status": "completed"
    },
    "tags": []
   },
   "source": [
    "**Create list of split indices**"
   ]
  },
  {
   "cell_type": "code",
   "execution_count": 14,
   "id": "75adaa90",
   "metadata": {
    "execution": {
     "iopub.execute_input": "2024-06-26T13:54:46.191577Z",
     "iopub.status.busy": "2024-06-26T13:54:46.191222Z",
     "iopub.status.idle": "2024-06-26T13:54:46.198600Z",
     "shell.execute_reply": "2024-06-26T13:54:46.197603Z"
    },
    "papermill": {
     "duration": 0.01809,
     "end_time": "2024-06-26T13:54:46.200721",
     "exception": false,
     "start_time": "2024-06-26T13:54:46.182631",
     "status": "completed"
    },
    "tags": []
   },
   "outputs": [],
   "source": [
    "\n",
    "split_index = [0 if x in X_val.index else -1 for x in X_train.index]\n",
    "custom_split = PredefinedSplit(split_index)"
   ]
  },
  {
   "cell_type": "code",
   "execution_count": 15,
   "id": "fcf4e566",
   "metadata": {
    "execution": {
     "iopub.execute_input": "2024-06-26T13:54:46.217231Z",
     "iopub.status.busy": "2024-06-26T13:54:46.216827Z",
     "iopub.status.idle": "2024-06-26T13:54:46.221287Z",
     "shell.execute_reply": "2024-06-26T13:54:46.220390Z"
    },
    "papermill": {
     "duration": 0.014998,
     "end_time": "2024-06-26T13:54:46.223281",
     "exception": false,
     "start_time": "2024-06-26T13:54:46.208283",
     "status": "completed"
    },
    "tags": []
   },
   "outputs": [],
   "source": [
    "rf = RandomForestClassifier(random_state=0)"
   ]
  },
  {
   "cell_type": "code",
   "execution_count": 16,
   "id": "5ee2366d",
   "metadata": {
    "execution": {
     "iopub.execute_input": "2024-06-26T13:54:46.239621Z",
     "iopub.status.busy": "2024-06-26T13:54:46.239273Z",
     "iopub.status.idle": "2024-06-26T13:54:46.244085Z",
     "shell.execute_reply": "2024-06-26T13:54:46.243063Z"
    },
    "papermill": {
     "duration": 0.015502,
     "end_time": "2024-06-26T13:54:46.246231",
     "exception": false,
     "start_time": "2024-06-26T13:54:46.230729",
     "status": "completed"
    },
    "tags": []
   },
   "outputs": [],
   "source": [
    "rf_val = GridSearchCV(rf, cv_params, cv=custom_split, refit='f1', n_jobs = -1, verbose = 1)"
   ]
  },
  {
   "cell_type": "markdown",
   "id": "35c73b54",
   "metadata": {
    "papermill": {
     "duration": 0.007308,
     "end_time": "2024-06-26T13:54:46.261212",
     "exception": false,
     "start_time": "2024-06-26T13:54:46.253904",
     "status": "completed"
    },
    "tags": []
   },
   "source": [
    "**Fit the model.**"
   ]
  },
  {
   "cell_type": "code",
   "execution_count": 17,
   "id": "b97cdaa4",
   "metadata": {
    "execution": {
     "iopub.execute_input": "2024-06-26T13:54:46.277726Z",
     "iopub.status.busy": "2024-06-26T13:54:46.277362Z",
     "iopub.status.idle": "2024-06-26T13:54:50.235776Z",
     "shell.execute_reply": "2024-06-26T13:54:50.234326Z"
    },
    "papermill": {
     "duration": 3.969639,
     "end_time": "2024-06-26T13:54:50.238300",
     "exception": false,
     "start_time": "2024-06-26T13:54:46.268661",
     "status": "completed"
    },
    "tags": []
   },
   "outputs": [
    {
     "name": "stdout",
     "output_type": "stream",
     "text": [
      "Fitting 1 folds for each of 32 candidates, totalling 32 fits\n",
      "CPU times: user 241 ms, sys: 55 ms, total: 296 ms\n",
      "Wall time: 3.94 s\n"
     ]
    },
    {
     "data": {
      "text/html": [
       "<style>#sk-container-id-1 {color: black;background-color: white;}#sk-container-id-1 pre{padding: 0;}#sk-container-id-1 div.sk-toggleable {background-color: white;}#sk-container-id-1 label.sk-toggleable__label {cursor: pointer;display: block;width: 100%;margin-bottom: 0;padding: 0.3em;box-sizing: border-box;text-align: center;}#sk-container-id-1 label.sk-toggleable__label-arrow:before {content: \"▸\";float: left;margin-right: 0.25em;color: #696969;}#sk-container-id-1 label.sk-toggleable__label-arrow:hover:before {color: black;}#sk-container-id-1 div.sk-estimator:hover label.sk-toggleable__label-arrow:before {color: black;}#sk-container-id-1 div.sk-toggleable__content {max-height: 0;max-width: 0;overflow: hidden;text-align: left;background-color: #f0f8ff;}#sk-container-id-1 div.sk-toggleable__content pre {margin: 0.2em;color: black;border-radius: 0.25em;background-color: #f0f8ff;}#sk-container-id-1 input.sk-toggleable__control:checked~div.sk-toggleable__content {max-height: 200px;max-width: 100%;overflow: auto;}#sk-container-id-1 input.sk-toggleable__control:checked~label.sk-toggleable__label-arrow:before {content: \"▾\";}#sk-container-id-1 div.sk-estimator input.sk-toggleable__control:checked~label.sk-toggleable__label {background-color: #d4ebff;}#sk-container-id-1 div.sk-label input.sk-toggleable__control:checked~label.sk-toggleable__label {background-color: #d4ebff;}#sk-container-id-1 input.sk-hidden--visually {border: 0;clip: rect(1px 1px 1px 1px);clip: rect(1px, 1px, 1px, 1px);height: 1px;margin: -1px;overflow: hidden;padding: 0;position: absolute;width: 1px;}#sk-container-id-1 div.sk-estimator {font-family: monospace;background-color: #f0f8ff;border: 1px dotted black;border-radius: 0.25em;box-sizing: border-box;margin-bottom: 0.5em;}#sk-container-id-1 div.sk-estimator:hover {background-color: #d4ebff;}#sk-container-id-1 div.sk-parallel-item::after {content: \"\";width: 100%;border-bottom: 1px solid gray;flex-grow: 1;}#sk-container-id-1 div.sk-label:hover label.sk-toggleable__label {background-color: #d4ebff;}#sk-container-id-1 div.sk-serial::before {content: \"\";position: absolute;border-left: 1px solid gray;box-sizing: border-box;top: 0;bottom: 0;left: 50%;z-index: 0;}#sk-container-id-1 div.sk-serial {display: flex;flex-direction: column;align-items: center;background-color: white;padding-right: 0.2em;padding-left: 0.2em;position: relative;}#sk-container-id-1 div.sk-item {position: relative;z-index: 1;}#sk-container-id-1 div.sk-parallel {display: flex;align-items: stretch;justify-content: center;background-color: white;position: relative;}#sk-container-id-1 div.sk-item::before, #sk-container-id-1 div.sk-parallel-item::before {content: \"\";position: absolute;border-left: 1px solid gray;box-sizing: border-box;top: 0;bottom: 0;left: 50%;z-index: -1;}#sk-container-id-1 div.sk-parallel-item {display: flex;flex-direction: column;z-index: 1;position: relative;background-color: white;}#sk-container-id-1 div.sk-parallel-item:first-child::after {align-self: flex-end;width: 50%;}#sk-container-id-1 div.sk-parallel-item:last-child::after {align-self: flex-start;width: 50%;}#sk-container-id-1 div.sk-parallel-item:only-child::after {width: 0;}#sk-container-id-1 div.sk-dashed-wrapped {border: 1px dashed gray;margin: 0 0.4em 0.5em 0.4em;box-sizing: border-box;padding-bottom: 0.4em;background-color: white;}#sk-container-id-1 div.sk-label label {font-family: monospace;font-weight: bold;display: inline-block;line-height: 1.2em;}#sk-container-id-1 div.sk-label-container {text-align: center;}#sk-container-id-1 div.sk-container {/* jupyter's `normalize.less` sets `[hidden] { display: none; }` but bootstrap.min.css set `[hidden] { display: none !important; }` so we also need the `!important` here to be able to override the default hidden behavior on the sphinx rendered scikit-learn.org. See: https://github.com/scikit-learn/scikit-learn/issues/21755 */display: inline-block !important;position: relative;}#sk-container-id-1 div.sk-text-repr-fallback {display: none;}</style><div id=\"sk-container-id-1\" class=\"sk-top-container\"><div class=\"sk-text-repr-fallback\"><pre>GridSearchCV(cv=PredefinedSplit(test_fold=array([-1,  0, ..., -1, -1])),\n",
       "             estimator=RandomForestClassifier(random_state=0), n_jobs=-1,\n",
       "             param_grid={&#x27;max_depth&#x27;: [10, 50], &#x27;max_features&#x27;: [&#x27;sqrt&#x27;],\n",
       "                         &#x27;max_samples&#x27;: [0.5, 0.9],\n",
       "                         &#x27;min_samples_leaf&#x27;: [0.5, 1],\n",
       "                         &#x27;min_samples_split&#x27;: [0.001, 0.01],\n",
       "                         &#x27;n_estimators&#x27;: [50, 100]},\n",
       "             refit=&#x27;f1&#x27;, verbose=1)</pre><b>In a Jupyter environment, please rerun this cell to show the HTML representation or trust the notebook. <br />On GitHub, the HTML representation is unable to render, please try loading this page with nbviewer.org.</b></div><div class=\"sk-container\" hidden><div class=\"sk-item sk-dashed-wrapped\"><div class=\"sk-label-container\"><div class=\"sk-label sk-toggleable\"><input class=\"sk-toggleable__control sk-hidden--visually\" id=\"sk-estimator-id-1\" type=\"checkbox\" ><label for=\"sk-estimator-id-1\" class=\"sk-toggleable__label sk-toggleable__label-arrow\">GridSearchCV</label><div class=\"sk-toggleable__content\"><pre>GridSearchCV(cv=PredefinedSplit(test_fold=array([-1,  0, ..., -1, -1])),\n",
       "             estimator=RandomForestClassifier(random_state=0), n_jobs=-1,\n",
       "             param_grid={&#x27;max_depth&#x27;: [10, 50], &#x27;max_features&#x27;: [&#x27;sqrt&#x27;],\n",
       "                         &#x27;max_samples&#x27;: [0.5, 0.9],\n",
       "                         &#x27;min_samples_leaf&#x27;: [0.5, 1],\n",
       "                         &#x27;min_samples_split&#x27;: [0.001, 0.01],\n",
       "                         &#x27;n_estimators&#x27;: [50, 100]},\n",
       "             refit=&#x27;f1&#x27;, verbose=1)</pre></div></div></div><div class=\"sk-parallel\"><div class=\"sk-parallel-item\"><div class=\"sk-item\"><div class=\"sk-label-container\"><div class=\"sk-label sk-toggleable\"><input class=\"sk-toggleable__control sk-hidden--visually\" id=\"sk-estimator-id-2\" type=\"checkbox\" ><label for=\"sk-estimator-id-2\" class=\"sk-toggleable__label sk-toggleable__label-arrow\">estimator: RandomForestClassifier</label><div class=\"sk-toggleable__content\"><pre>RandomForestClassifier(random_state=0)</pre></div></div></div><div class=\"sk-serial\"><div class=\"sk-item\"><div class=\"sk-estimator sk-toggleable\"><input class=\"sk-toggleable__control sk-hidden--visually\" id=\"sk-estimator-id-3\" type=\"checkbox\" ><label for=\"sk-estimator-id-3\" class=\"sk-toggleable__label sk-toggleable__label-arrow\">RandomForestClassifier</label><div class=\"sk-toggleable__content\"><pre>RandomForestClassifier(random_state=0)</pre></div></div></div></div></div></div></div></div></div></div>"
      ],
      "text/plain": [
       "GridSearchCV(cv=PredefinedSplit(test_fold=array([-1,  0, ..., -1, -1])),\n",
       "             estimator=RandomForestClassifier(random_state=0), n_jobs=-1,\n",
       "             param_grid={'max_depth': [10, 50], 'max_features': ['sqrt'],\n",
       "                         'max_samples': [0.5, 0.9],\n",
       "                         'min_samples_leaf': [0.5, 1],\n",
       "                         'min_samples_split': [0.001, 0.01],\n",
       "                         'n_estimators': [50, 100]},\n",
       "             refit='f1', verbose=1)"
      ]
     },
     "execution_count": 17,
     "metadata": {},
     "output_type": "execute_result"
    }
   ],
   "source": [
    "\n",
    "\n",
    "%%time\n",
    "\n",
    "\n",
    "\n",
    "\n",
    "rf_val.fit(X_train, y_train)"
   ]
  },
  {
   "cell_type": "code",
   "execution_count": 18,
   "id": "5cc28dc0",
   "metadata": {
    "execution": {
     "iopub.execute_input": "2024-06-26T13:54:50.256964Z",
     "iopub.status.busy": "2024-06-26T13:54:50.256608Z",
     "iopub.status.idle": "2024-06-26T13:54:50.263478Z",
     "shell.execute_reply": "2024-06-26T13:54:50.262532Z"
    },
    "papermill": {
     "duration": 0.01885,
     "end_time": "2024-06-26T13:54:50.265739",
     "exception": false,
     "start_time": "2024-06-26T13:54:50.246889",
     "status": "completed"
    },
    "tags": []
   },
   "outputs": [
    {
     "data": {
      "text/plain": [
       "{'max_depth': 50,\n",
       " 'max_features': 'sqrt',\n",
       " 'max_samples': 0.9,\n",
       " 'min_samples_leaf': 1,\n",
       " 'min_samples_split': 0.01,\n",
       " 'n_estimators': 50}"
      ]
     },
     "execution_count": 18,
     "metadata": {},
     "output_type": "execute_result"
    }
   ],
   "source": [
    "rf_val.best_params_"
   ]
  },
  {
   "cell_type": "code",
   "execution_count": 19,
   "id": "85531b44",
   "metadata": {
    "execution": {
     "iopub.execute_input": "2024-06-26T13:54:50.283890Z",
     "iopub.status.busy": "2024-06-26T13:54:50.283106Z",
     "iopub.status.idle": "2024-06-26T13:54:50.287910Z",
     "shell.execute_reply": "2024-06-26T13:54:50.287016Z"
    },
    "papermill": {
     "duration": 0.015719,
     "end_time": "2024-06-26T13:54:50.289827",
     "exception": false,
     "start_time": "2024-06-26T13:54:50.274108",
     "status": "completed"
    },
    "tags": []
   },
   "outputs": [],
   "source": [
    "\n",
    "rf_opt = RandomForestClassifier(n_estimators = 50, max_depth = 50, \n",
    "                                min_samples_leaf = 1, min_samples_split = 0.01,\n",
    "                                max_features=\"sqrt\", max_samples = 0.9, random_state = 0)"
   ]
  },
  {
   "cell_type": "code",
   "execution_count": 20,
   "id": "e90e3d31",
   "metadata": {
    "execution": {
     "iopub.execute_input": "2024-06-26T13:54:50.307316Z",
     "iopub.status.busy": "2024-06-26T13:54:50.306961Z",
     "iopub.status.idle": "2024-06-26T13:54:50.446742Z",
     "shell.execute_reply": "2024-06-26T13:54:50.445781Z"
    },
    "papermill": {
     "duration": 0.151639,
     "end_time": "2024-06-26T13:54:50.449424",
     "exception": false,
     "start_time": "2024-06-26T13:54:50.297785",
     "status": "completed"
    },
    "tags": []
   },
   "outputs": [
    {
     "data": {
      "text/html": [
       "<style>#sk-container-id-2 {color: black;background-color: white;}#sk-container-id-2 pre{padding: 0;}#sk-container-id-2 div.sk-toggleable {background-color: white;}#sk-container-id-2 label.sk-toggleable__label {cursor: pointer;display: block;width: 100%;margin-bottom: 0;padding: 0.3em;box-sizing: border-box;text-align: center;}#sk-container-id-2 label.sk-toggleable__label-arrow:before {content: \"▸\";float: left;margin-right: 0.25em;color: #696969;}#sk-container-id-2 label.sk-toggleable__label-arrow:hover:before {color: black;}#sk-container-id-2 div.sk-estimator:hover label.sk-toggleable__label-arrow:before {color: black;}#sk-container-id-2 div.sk-toggleable__content {max-height: 0;max-width: 0;overflow: hidden;text-align: left;background-color: #f0f8ff;}#sk-container-id-2 div.sk-toggleable__content pre {margin: 0.2em;color: black;border-radius: 0.25em;background-color: #f0f8ff;}#sk-container-id-2 input.sk-toggleable__control:checked~div.sk-toggleable__content {max-height: 200px;max-width: 100%;overflow: auto;}#sk-container-id-2 input.sk-toggleable__control:checked~label.sk-toggleable__label-arrow:before {content: \"▾\";}#sk-container-id-2 div.sk-estimator input.sk-toggleable__control:checked~label.sk-toggleable__label {background-color: #d4ebff;}#sk-container-id-2 div.sk-label input.sk-toggleable__control:checked~label.sk-toggleable__label {background-color: #d4ebff;}#sk-container-id-2 input.sk-hidden--visually {border: 0;clip: rect(1px 1px 1px 1px);clip: rect(1px, 1px, 1px, 1px);height: 1px;margin: -1px;overflow: hidden;padding: 0;position: absolute;width: 1px;}#sk-container-id-2 div.sk-estimator {font-family: monospace;background-color: #f0f8ff;border: 1px dotted black;border-radius: 0.25em;box-sizing: border-box;margin-bottom: 0.5em;}#sk-container-id-2 div.sk-estimator:hover {background-color: #d4ebff;}#sk-container-id-2 div.sk-parallel-item::after {content: \"\";width: 100%;border-bottom: 1px solid gray;flex-grow: 1;}#sk-container-id-2 div.sk-label:hover label.sk-toggleable__label {background-color: #d4ebff;}#sk-container-id-2 div.sk-serial::before {content: \"\";position: absolute;border-left: 1px solid gray;box-sizing: border-box;top: 0;bottom: 0;left: 50%;z-index: 0;}#sk-container-id-2 div.sk-serial {display: flex;flex-direction: column;align-items: center;background-color: white;padding-right: 0.2em;padding-left: 0.2em;position: relative;}#sk-container-id-2 div.sk-item {position: relative;z-index: 1;}#sk-container-id-2 div.sk-parallel {display: flex;align-items: stretch;justify-content: center;background-color: white;position: relative;}#sk-container-id-2 div.sk-item::before, #sk-container-id-2 div.sk-parallel-item::before {content: \"\";position: absolute;border-left: 1px solid gray;box-sizing: border-box;top: 0;bottom: 0;left: 50%;z-index: -1;}#sk-container-id-2 div.sk-parallel-item {display: flex;flex-direction: column;z-index: 1;position: relative;background-color: white;}#sk-container-id-2 div.sk-parallel-item:first-child::after {align-self: flex-end;width: 50%;}#sk-container-id-2 div.sk-parallel-item:last-child::after {align-self: flex-start;width: 50%;}#sk-container-id-2 div.sk-parallel-item:only-child::after {width: 0;}#sk-container-id-2 div.sk-dashed-wrapped {border: 1px dashed gray;margin: 0 0.4em 0.5em 0.4em;box-sizing: border-box;padding-bottom: 0.4em;background-color: white;}#sk-container-id-2 div.sk-label label {font-family: monospace;font-weight: bold;display: inline-block;line-height: 1.2em;}#sk-container-id-2 div.sk-label-container {text-align: center;}#sk-container-id-2 div.sk-container {/* jupyter's `normalize.less` sets `[hidden] { display: none; }` but bootstrap.min.css set `[hidden] { display: none !important; }` so we also need the `!important` here to be able to override the default hidden behavior on the sphinx rendered scikit-learn.org. See: https://github.com/scikit-learn/scikit-learn/issues/21755 */display: inline-block !important;position: relative;}#sk-container-id-2 div.sk-text-repr-fallback {display: none;}</style><div id=\"sk-container-id-2\" class=\"sk-top-container\"><div class=\"sk-text-repr-fallback\"><pre>RandomForestClassifier(max_depth=50, max_samples=0.9, min_samples_split=0.01,\n",
       "                       n_estimators=50, random_state=0)</pre><b>In a Jupyter environment, please rerun this cell to show the HTML representation or trust the notebook. <br />On GitHub, the HTML representation is unable to render, please try loading this page with nbviewer.org.</b></div><div class=\"sk-container\" hidden><div class=\"sk-item\"><div class=\"sk-estimator sk-toggleable\"><input class=\"sk-toggleable__control sk-hidden--visually\" id=\"sk-estimator-id-4\" type=\"checkbox\" checked><label for=\"sk-estimator-id-4\" class=\"sk-toggleable__label sk-toggleable__label-arrow\">RandomForestClassifier</label><div class=\"sk-toggleable__content\"><pre>RandomForestClassifier(max_depth=50, max_samples=0.9, min_samples_split=0.01,\n",
       "                       n_estimators=50, random_state=0)</pre></div></div></div></div></div>"
      ],
      "text/plain": [
       "RandomForestClassifier(max_depth=50, max_samples=0.9, min_samples_split=0.01,\n",
       "                       n_estimators=50, random_state=0)"
      ]
     },
     "execution_count": 20,
     "metadata": {},
     "output_type": "execute_result"
    }
   ],
   "source": [
    "rf_opt.fit(X_train, y_train)"
   ]
  },
  {
   "cell_type": "code",
   "execution_count": 21,
   "id": "f46c809d",
   "metadata": {
    "execution": {
     "iopub.execute_input": "2024-06-26T13:54:50.468122Z",
     "iopub.status.busy": "2024-06-26T13:54:50.467410Z",
     "iopub.status.idle": "2024-06-26T13:54:50.478622Z",
     "shell.execute_reply": "2024-06-26T13:54:50.477894Z"
    },
    "papermill": {
     "duration": 0.022651,
     "end_time": "2024-06-26T13:54:50.480676",
     "exception": false,
     "start_time": "2024-06-26T13:54:50.458025",
     "status": "completed"
    },
    "tags": []
   },
   "outputs": [],
   "source": [
    "y_pred = rf_opt.predict(X_test)"
   ]
  },
  {
   "cell_type": "code",
   "execution_count": 22,
   "id": "bfaf0920",
   "metadata": {
    "execution": {
     "iopub.execute_input": "2024-06-26T13:54:50.502039Z",
     "iopub.status.busy": "2024-06-26T13:54:50.501455Z",
     "iopub.status.idle": "2024-06-26T13:54:50.510639Z",
     "shell.execute_reply": "2024-06-26T13:54:50.509465Z"
    },
    "papermill": {
     "duration": 0.023192,
     "end_time": "2024-06-26T13:54:50.512550",
     "exception": false,
     "start_time": "2024-06-26T13:54:50.489358",
     "status": "completed"
    },
    "tags": []
   },
   "outputs": [
    {
     "name": "stdout",
     "output_type": "stream",
     "text": [
      "The precision score is 0.905\n"
     ]
    }
   ],
   "source": [
    "pc_test = precision_score(y_test, y_pred,pos_label = 0)\n",
    "print(\"The precision score is {pc:.3f}\".format(pc = pc_test))"
   ]
  },
  {
   "cell_type": "code",
   "execution_count": 23,
   "id": "61076e4a",
   "metadata": {
    "execution": {
     "iopub.execute_input": "2024-06-26T13:54:50.530612Z",
     "iopub.status.busy": "2024-06-26T13:54:50.530096Z",
     "iopub.status.idle": "2024-06-26T13:54:50.537752Z",
     "shell.execute_reply": "2024-06-26T13:54:50.536876Z"
    },
    "papermill": {
     "duration": 0.018804,
     "end_time": "2024-06-26T13:54:50.539664",
     "exception": false,
     "start_time": "2024-06-26T13:54:50.520860",
     "status": "completed"
    },
    "tags": []
   },
   "outputs": [
    {
     "name": "stdout",
     "output_type": "stream",
     "text": [
      "The recall score is 0.954\n"
     ]
    }
   ],
   "source": [
    "rc_test = recall_score(y_test, y_pred,pos_label = 0)\n",
    "print(\"The recall score is {rc:.3f}\".format(rc = rc_test))"
   ]
  },
  {
   "cell_type": "code",
   "execution_count": 24,
   "id": "14d53723",
   "metadata": {
    "execution": {
     "iopub.execute_input": "2024-06-26T13:54:50.563396Z",
     "iopub.status.busy": "2024-06-26T13:54:50.562803Z",
     "iopub.status.idle": "2024-06-26T13:54:50.571848Z",
     "shell.execute_reply": "2024-06-26T13:54:50.570306Z"
    },
    "papermill": {
     "duration": 0.023711,
     "end_time": "2024-06-26T13:54:50.574538",
     "exception": false,
     "start_time": "2024-06-26T13:54:50.550827",
     "status": "completed"
    },
    "tags": []
   },
   "outputs": [
    {
     "name": "stdout",
     "output_type": "stream",
     "text": [
      "The accuracy score is 0.899\n"
     ]
    }
   ],
   "source": [
    "ac_test = accuracy_score(y_test, y_pred)\n",
    "print(\"The accuracy score is {ac:.3f}\".format(ac = ac_test))"
   ]
  },
  {
   "cell_type": "code",
   "execution_count": 25,
   "id": "802ad976",
   "metadata": {
    "execution": {
     "iopub.execute_input": "2024-06-26T13:54:50.598904Z",
     "iopub.status.busy": "2024-06-26T13:54:50.598440Z",
     "iopub.status.idle": "2024-06-26T13:54:50.606854Z",
     "shell.execute_reply": "2024-06-26T13:54:50.605865Z"
    },
    "papermill": {
     "duration": 0.023293,
     "end_time": "2024-06-26T13:54:50.608889",
     "exception": false,
     "start_time": "2024-06-26T13:54:50.585596",
     "status": "completed"
    },
    "tags": []
   },
   "outputs": [
    {
     "name": "stdout",
     "output_type": "stream",
     "text": [
      "The F1 score is 0.929\n"
     ]
    }
   ],
   "source": [
    "f1_test = f1_score(y_test, y_pred,pos_label = 0)\n",
    "print(\"The F1 score is {f1:.3f}\".format(f1 = f1_test))"
   ]
  },
  {
   "cell_type": "code",
   "execution_count": null,
   "id": "f1f68228",
   "metadata": {
    "papermill": {
     "duration": 0.008235,
     "end_time": "2024-06-26T13:54:50.625677",
     "exception": false,
     "start_time": "2024-06-26T13:54:50.617442",
     "status": "completed"
    },
    "tags": []
   },
   "outputs": [],
   "source": []
  }
 ],
 "metadata": {
  "kaggle": {
   "accelerator": "none",
   "dataSources": [
    {
     "datasetId": 5228885,
     "sourceId": 8715385,
     "sourceType": "datasetVersion"
    }
   ],
   "dockerImageVersionId": 30732,
   "isGpuEnabled": false,
   "isInternetEnabled": false,
   "language": "python",
   "sourceType": "notebook"
  },
  "kernelspec": {
   "display_name": "Python 3",
   "language": "python",
   "name": "python3"
  },
  "language_info": {
   "codemirror_mode": {
    "name": "ipython",
    "version": 3
   },
   "file_extension": ".py",
   "mimetype": "text/x-python",
   "name": "python",
   "nbconvert_exporter": "python",
   "pygments_lexer": "ipython3",
   "version": "3.10.13"
  },
  "papermill": {
   "default_parameters": {},
   "duration": 12.1134,
   "end_time": "2024-06-26T13:54:53.253113",
   "environment_variables": {},
   "exception": null,
   "input_path": "__notebook__.ipynb",
   "output_path": "__notebook__.ipynb",
   "parameters": {},
   "start_time": "2024-06-26T13:54:41.139713",
   "version": "2.5.0"
  }
 },
 "nbformat": 4,
 "nbformat_minor": 5
}
